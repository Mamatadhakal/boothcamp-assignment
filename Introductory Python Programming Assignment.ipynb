{
 "cells": [
  {
   "cell_type": "code",
   "execution_count": 5,
   "id": "50ac7111-9430-4a77-848e-337eab6ea70f",
   "metadata": {},
   "outputs": [
    {
     "name": "stdin",
     "output_type": "stream",
     "text": [
      "please inter your age 18\n"
     ]
    },
    {
     "name": "stdout",
     "output_type": "stream",
     "text": [
      "you are eligible to vote\n"
     ]
    }
   ],
   "source": [
    "# Task 1: Write a program that checks if a user is eligible to vote.\n",
    "#ask the user for their age\n",
    "age = int(input(\"please inter your age\"))\n",
    "if age >= 18:\n",
    "    print ('you are eligible to vote')\n",
    "else:\n",
    "    print ('Sorry you are not eligible to vote')"
   ]
  },
  {
   "cell_type": "code",
   "execution_count": 6,
   "id": "28c1a703-0276-4574-b93e-2e9fa0a05908",
   "metadata": {},
   "outputs": [
    {
     "name": "stdin",
     "output_type": "stream",
     "text": [
      "Enter the first number:  1\n",
      "Enter the second number:  3\n"
     ]
    },
    {
     "name": "stdout",
     "output_type": "stream",
     "text": [
      "Choose an operation: + (addition), - (subtraction), * (multiplication), / (division)\n"
     ]
    },
    {
     "name": "stdin",
     "output_type": "stream",
     "text": [
      "Enter the operation:  *\n"
     ]
    },
    {
     "name": "stdout",
     "output_type": "stream",
     "text": [
      "Result: 3.0\n"
     ]
    }
   ],
   "source": [
    "# Task 2 create a simple calculator\n",
    "# Ask the user to enter the first number\n",
    "\n",
    "num1 = float(input(\"Enter the first number: \"))\n",
    "\n",
    "# Ask the user to enter the second number\n",
    "num2 = float(input(\"Enter the second number: \"))\n",
    "\n",
    "# Ask the user to choose an operation\n",
    "print(\"Choose an operation: + (addition), - (subtraction), * (multiplication), / (division)\")\n",
    "operation = input(\"Enter the operation: \")\n",
    "\n",
    "# Perform the operation based on user input\n",
    "if operation == '+':\n",
    "    result = num1 + num2\n",
    "    print(\"Result:\", result)\n",
    "elif operation == '-':\n",
    "    result = num1 - num2\n",
    "    print(\"Result:\", result)\n",
    "elif operation == '*':\n",
    "    result = num1 * num2\n",
    "    print(\"Result:\", result)\n",
    "elif operation == '/':\n",
    "    if num2 != 0:\n",
    "        result = num1 / num2\n",
    "        print(\"Result:\", result)\n",
    "    else:\n",
    "        print(\"Error: Division by zero is not allowed.\")\n",
    "else:\n",
    "    print(\"Invalid operation. Please choose +, -, *, or /.\")"
   ]
  },
  {
   "cell_type": "code",
   "execution_count": 9,
   "id": "b4dd72b4-a8ba-4e19-9235-ade812dae82e",
   "metadata": {},
   "outputs": [
    {
     "name": "stdout",
     "output_type": "stream",
     "text": [
      "List: [2, 5, 24, 24, 45]\n",
      "Maximum: 45\n",
      "Minimum: 2\n"
     ]
    }
   ],
   "source": [
    "# task 3\n",
    "# finding maxium and mininum \n",
    "numbers = [2, 5, 24, 24, 45]\n",
    "print(\"List:\", numbers)\n",
    "\n",
    "if len(numbers) > 0:\n",
    "    print(\"Maximum:\", max(numbers))\n",
    "    print(\"Minimum:\", min(numbers))\n",
    "else:\n",
    "    print(\"The list is empty.\")\n"
   ]
  },
  {
   "cell_type": "code",
   "execution_count": 11,
   "id": "dfb2928a-74fb-4371-9257-cc5059e7345d",
   "metadata": {},
   "outputs": [
    {
     "name": "stdout",
     "output_type": "stream",
     "text": [
      "7 is a prime number.\n"
     ]
    }
   ],
   "source": [
    "#task 4\n",
    "#Check for Prime Number\n",
    "num = 7\n",
    "if num > 1:\n",
    "    for i in range(2, int(num ** 0.5) + 1):\n",
    "        if num % i == 0:\n",
    "            print(f\"{num} is not a prime number.\")\n",
    "            break\n",
    "    else:\n",
    "        print(f\"{num} is a prime number.\")\n",
    "else:\n",
    "    print(f\"{num} is not a prime number.\")"
   ]
  },
  {
   "cell_type": "code",
   "execution_count": 12,
   "id": "c8a73581-6a51-43d9-9d2d-b9037b0cc7d9",
   "metadata": {},
   "outputs": [
    {
     "name": "stdout",
     "output_type": "stream",
     "text": [
      "Factorial of 5 is 120\n"
     ]
    }
   ],
   "source": [
    "#factorial of number\n",
    "def factorial(n):\n",
    "    if n == 0 or n == 1:\n",
    "        return 1\n",
    "    return n * factorial(n - 1)\n",
    "\n",
    "n = 5\n",
    "print(f\"Factorial of {n} is {factorial(n)}\")"
   ]
  },
  {
   "cell_type": "code",
   "execution_count": 13,
   "id": "0e62a359-159c-4324-a6bd-41b2ec723b36",
   "metadata": {},
   "outputs": [
    {
     "name": "stdout",
     "output_type": "stream",
     "text": [
      "First 7 terms of Fibonacci sequence:\n",
      "0 1 1 2 3 5 8 "
     ]
    }
   ],
   "source": [
    "#fibonacci sequence\n",
    "terms = 7\n",
    "a, b = 0, 1\n",
    "count = 0\n",
    "print(f\"First {terms} terms of Fibonacci sequence:\")\n",
    "\n",
    "if terms <= 0:\n",
    "    print(\"Enter a positive number.\")\n",
    "elif terms == 1:\n",
    "    print(a)\n",
    "else:\n",
    "    while count < terms:\n",
    "        print(a, end=\" \")\n",
    "        a, b = b, a + b\n",
    "        count += 1\n"
   ]
  },
  {
   "cell_type": "code",
   "execution_count": 19,
   "id": "e0c51f98-45c1-4f59-85a1-9e6f83f002e4",
   "metadata": {},
   "outputs": [
    {
     "name": "stdout",
     "output_type": "stream",
     "text": [
      "Sum of digits of 753 is 15\n"
     ]
    }
   ],
   "source": [
    "# sum of digits\n",
    "number = 753\n",
    "sum_digits = 0\n",
    "temp = number\n",
    "\n",
    "while temp > 0:\n",
    "    digit = temp % 10\n",
    "    sum_digits += digit\n",
    "    temp //= 10\n",
    "\n",
    "print(f\"Sum of digits of {number} is {sum_digits}\")"
   ]
  },
  {
   "cell_type": "code",
   "execution_count": 15,
   "id": "80afd2a4-8a99-4b3f-bfaa-adbee426dc53",
   "metadata": {},
   "outputs": [
    {
     "name": "stdout",
     "output_type": "stream",
     "text": [
      "Binary representation of 50 is 110010\n"
     ]
    }
   ],
   "source": [
    "#conver decimal to binary\n",
    "decimal = 50\n",
    "\n",
    "if decimal >= 0:\n",
    "    binary = bin(decimal)[2:]\n",
    "    print(f\"Binary representation of {decimal} is {binary}\")\n",
    "else:\n",
    "    print(\"Please enter a non-negative number.\")"
   ]
  },
  {
   "cell_type": "code",
   "execution_count": 16,
   "id": "b6c9a440-01fe-4e87-b187-fc3b070fc620",
   "metadata": {},
   "outputs": [
    {
     "name": "stdout",
     "output_type": "stream",
     "text": [
      "GCD is 6\n"
     ]
    }
   ],
   "source": [
    "#greatest Common Divisor (GCD)\n",
    "a = 48\n",
    "b = 18\n",
    "\n",
    "while b != 0:\n",
    "    a, b = b, a % b\n",
    "\n",
    "print(f\"GCD is {a}\")"
   ]
  },
  {
   "cell_type": "code",
   "execution_count": 18,
   "id": "7d99ceab-6662-442d-a1c1-87d5e25c2c1a",
   "metadata": {},
   "outputs": [
    {
     "name": "stdout",
     "output_type": "stream",
     "text": [
      "Second largest number is: 67\n"
     ]
    }
   ],
   "source": [
    "#find the Second Largest Number in a List\n",
    "numbers = [23, 45, 67, 45, 89, 89, 12]\n",
    "secondlargest = list(set(numbers))\n",
    "\n",
    "if len(secondlargest) < 2:\n",
    "    print(\"No second largest number.\")\n",
    "else:\n",
    "    secondlargest.sort()\n",
    "    print(\"Second largest number is:\", secondlargest[-2])"
   ]
  },
  {
   "cell_type": "code",
   "execution_count": 20,
   "id": "2a7255c8-5743-4982-89ec-d94b60affd7d",
   "metadata": {},
   "outputs": [
    {
     "name": "stdout",
     "output_type": "stream",
     "text": [
      "Number of digits in 908172 is 6\n"
     ]
    }
   ],
   "source": [
    "#count the Number of Digits in a Number\n",
    "num = 908172\n",
    "if num == 0:\n",
    "    print(\"Number of digits: 1\")\n",
    "else:\n",
    "    count = 0\n",
    "    temp = abs(num)\n",
    "    while temp != 0:\n",
    "        temp //= 10\n",
    "        count += 1\n",
    "    print(f\"Number of digits in {num} is {count}\")"
   ]
  },
  {
   "cell_type": "code",
   "execution_count": 21,
   "id": "334079ed-7b12-416a-879a-499c73633525",
   "metadata": {},
   "outputs": [
    {
     "name": "stdout",
     "output_type": "stream",
     "text": [
      "31 is NOT a power of two.\n"
     ]
    }
   ],
   "source": [
    "# check if the number is power of 2\n",
    "number = 31\n",
    "\n",
    "if number > 0 and (number & (number - 1)) == 0:\n",
    "    print(f\"{number} is a power of two.\")\n",
    "else:\n",
    "    print(f\"{number} is NOT a power of two.\")"
   ]
  },
  {
   "cell_type": "code",
   "execution_count": null,
   "id": "17d12dd2-b43b-4833-bbdb-36e5bbc55be9",
   "metadata": {},
   "outputs": [],
   "source": []
  }
 ],
 "metadata": {
  "kernelspec": {
   "display_name": "Python [conda env:base] *",
   "language": "python",
   "name": "conda-base-py"
  },
  "language_info": {
   "codemirror_mode": {
    "name": "ipython",
    "version": 3
   },
   "file_extension": ".py",
   "mimetype": "text/x-python",
   "name": "python",
   "nbconvert_exporter": "python",
   "pygments_lexer": "ipython3",
   "version": "3.12.7"
  }
 },
 "nbformat": 4,
 "nbformat_minor": 5
}
